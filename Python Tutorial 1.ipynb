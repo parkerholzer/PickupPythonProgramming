{
 "cells": [
  {
   "cell_type": "markdown",
   "metadata": {},
   "source": [
    "# Introduction to Python"
   ]
  },
  {
   "cell_type": "markdown",
   "metadata": {},
   "source": [
    "#### Parker H. Holzer,   Department of Statistics & Data Science,  Yale University"
   ]
  },
  {
   "cell_type": "markdown",
   "metadata": {},
   "source": [
    "Goals:\n",
    "----------\n",
    "1. Become familiar with Jupyter notebooks\n",
    "2. Understand Python programming basics\n",
    "3. Learn to work with lists and arrays\n",
    "4. Get comfortable working with dataframes"
   ]
  },
  {
   "cell_type": "markdown",
   "metadata": {},
   "source": [
    "## Part 1: Jupyter notebooks\n",
    "\n",
    "While Python is a scripting language that can be executed in the terminal/command-prompt, Jupyter notebooks provide a good interface for preparing python code as well as data analysis. These notebooks are composed with cells, of which there are two types:\n",
    "\n",
    "* Code cells: chunks of python code that should all be run together\n",
    "* Markdown cells: areas to add text for describing code, adding math, presentations like this, etc.\n",
    "\n",
    "#### *Exercise:*     **DOUBLE-CLICK HERE**\n",
    "\n",
    "Which of these two cell types do you think this is?\n",
    "\n",
    "Also, did you notice how the appearance of this cell changed when you double-clicked it? That's because each cell has two different modes it can be in: Command Mode (surrounded with a blue box) and Edit Mode (surrounded with a green box). This cell is now in Command Mode, which means you cannot edit the contents of the cell. To go to Edit Mode and change the contents of the cell, either click inside the cell or press Enter on your keyboard. When you are ready to run a cell (either code or markdown type) you can either click the *Run* button near the top left of the notebook or use Shift-Enter on your keyboard. Try it out right now on this cell!\n",
    "\n",
    "If you wish to leave Edit Mode without running the cell, you can press Escape on your keyboard. (Note: there are many other keyboard shortcuts for Jupyter notebooks that you can check out by clicking *Help* near the top and selecting *Keyboard Shortcuts*.)"
   ]
  },
  {
   "cell_type": "markdown",
   "metadata": {},
   "source": [
    "#### *Exercise*:\n",
    "\n",
    "Fill in the missing text of the following lines\n",
    "\n",
    "**- - - - -**\n",
    "\n",
    "**Bow, wow, wow**\n",
    "\n",
    "**Eli Yale**\n",
    "\n",
    "**- - - - -**\n",
    "\n",
    "**Bow, wow, wow**\n",
    "\n",
    "**Our team can never fail**"
   ]
  },
  {
   "cell_type": "code",
   "execution_count": 1,
   "metadata": {},
   "outputs": [
    {
     "name": "stdout",
     "output_type": "stream",
     "text": [
      "Hello! And welcome to Jupyter notebooks\n"
     ]
    }
   ],
   "source": [
    "#This is a code cell, which can have comments (like this) and python code. Within a code cell, the lines are\n",
    "#run from top to bottom. Code cells can also be run in any order, the order of which is indicated by the number\n",
    "#on the left of the cell. \n",
    "print(\"Hello! And welcome to Jupyter notebooks\")"
   ]
  },
  {
   "cell_type": "markdown",
   "metadata": {},
   "source": [
    "## Part 2: Python basics\n",
    "\n",
    "### Arithmetic and Math Operations\n",
    "\n",
    "Each of the following is a specific math operator in python: `+`, `-`, `*`, `/`, `**`, `//`, `%`\n",
    "\n",
    "Try each of them out by replacing `+` in the following cell to see if you can figure out what they do."
   ]
  },
  {
   "cell_type": "code",
   "execution_count": 24,
   "metadata": {},
   "outputs": [
    {
     "data": {
      "text/plain": [
       "2"
      ]
     },
     "execution_count": 24,
     "metadata": {},
     "output_type": "execute_result"
    }
   ],
   "source": [
    "-7 + 3"
   ]
  },
  {
   "cell_type": "markdown",
   "metadata": {},
   "source": [
    "To assign a value to a variable, use the `=` symbol. The following cell gives the variable `x` the value `6` and the variable `y` the value `4`."
   ]
  },
  {
   "cell_type": "code",
   "execution_count": 25,
   "metadata": {},
   "outputs": [],
   "source": [
    "x = 6\n",
    "y = 4"
   ]
  },
  {
   "cell_type": "markdown",
   "metadata": {},
   "source": [
    "If you want to see the value of a variable, just run a cell with it as the last line of the cell."
   ]
  },
  {
   "cell_type": "code",
   "execution_count": 26,
   "metadata": {},
   "outputs": [
    {
     "data": {
      "text/plain": [
       "6"
      ]
     },
     "execution_count": 26,
     "metadata": {},
     "output_type": "execute_result"
    }
   ],
   "source": [
    "x"
   ]
  },
  {
   "cell_type": "markdown",
   "metadata": {},
   "source": [
    "There are also comparison operators: `==`, `>`, `<`, `!=`, `>=`, `<=` .\n",
    "\n",
    "Try each of these operators out by replacing `==` in the cell to get a feel for what they do."
   ]
  },
  {
   "cell_type": "code",
   "execution_count": 28,
   "metadata": {},
   "outputs": [
    {
     "data": {
      "text/plain": [
       "True"
      ]
     },
     "execution_count": 28,
     "metadata": {},
     "output_type": "execute_result"
    }
   ],
   "source": [
    "x == y + 2"
   ]
  },
  {
   "cell_type": "markdown",
   "metadata": {},
   "source": [
    "#### *Exercise:*\n",
    "\n",
    "What will the following cell output?"
   ]
  },
  {
   "cell_type": "code",
   "execution_count": 35,
   "metadata": {},
   "outputs": [
    {
     "data": {
      "text/plain": [
       "True"
      ]
     },
     "execution_count": 35,
     "metadata": {},
     "output_type": "execute_result"
    }
   ],
   "source": [
    "z = (y - 3)**6 + 5\n",
    "z = z/2\n",
    "(z % 2) >= (x % 2)"
   ]
  },
  {
   "cell_type": "markdown",
   "metadata": {},
   "source": [
    "### Variable Types\n",
    "\n",
    "The variables `x`, `y`, and `z` each have numeric values. But there are many other types of variables available. Jupyter notebook color-codes each of these types to make that more obvious."
   ]
  },
  {
   "cell_type": "code",
   "execution_count": 36,
   "metadata": {},
   "outputs": [],
   "source": [
    "var1 = \"This is a string\"\n",
    "var2 = False"
   ]
  },
  {
   "cell_type": "markdown",
   "metadata": {},
   "source": [
    "To see what type a variable is, use the `type()` function"
   ]
  },
  {
   "cell_type": "code",
   "execution_count": 43,
   "metadata": {},
   "outputs": [
    {
     "data": {
      "text/plain": [
       "str"
      ]
     },
     "execution_count": 43,
     "metadata": {},
     "output_type": "execute_result"
    }
   ],
   "source": [
    "type(var1)  #replace var1 with var2, x, or x/5 to see how the type changes"
   ]
  },
  {
   "cell_type": "markdown",
   "metadata": {},
   "source": [
    "So do the math and comparison operators work with these other types too?"
   ]
  },
  {
   "cell_type": "code",
   "execution_count": 52,
   "metadata": {},
   "outputs": [
    {
     "data": {
      "text/plain": [
       "'This is a string that works with addition!'"
      ]
     },
     "execution_count": 52,
     "metadata": {},
     "output_type": "execute_result"
    }
   ],
   "source": [
    "var1 = var1 + \" that works with addition!\"\n",
    "var1"
   ]
  },
  {
   "cell_type": "code",
   "execution_count": 53,
   "metadata": {},
   "outputs": [
    {
     "data": {
      "text/plain": [
       "'This is a string that works with addition!This is a string that works with addition!'"
      ]
     },
     "execution_count": 53,
     "metadata": {},
     "output_type": "execute_result"
    }
   ],
   "source": [
    "var1 * 2"
   ]
  },
  {
   "cell_type": "code",
   "execution_count": 56,
   "metadata": {},
   "outputs": [
    {
     "data": {
      "text/plain": [
       "''"
      ]
     },
     "execution_count": 56,
     "metadata": {},
     "output_type": "execute_result"
    }
   ],
   "source": [
    "var1 * var2"
   ]
  },
  {
   "cell_type": "code",
   "execution_count": 57,
   "metadata": {},
   "outputs": [
    {
     "data": {
      "text/plain": [
       "0"
      ]
     },
     "execution_count": 57,
     "metadata": {},
     "output_type": "execute_result"
    }
   ],
   "source": [
    "var2 * x"
   ]
  },
  {
   "cell_type": "code",
   "execution_count": 64,
   "metadata": {},
   "outputs": [
    {
     "data": {
      "text/plain": [
       "2"
      ]
     },
     "execution_count": 64,
     "metadata": {},
     "output_type": "execute_result"
    }
   ],
   "source": [
    "var3 = True\n",
    "var3 + var3"
   ]
  },
  {
   "cell_type": "markdown",
   "metadata": {},
   "source": [
    "## Part 3: Lists and Arrays\n",
    "\n",
    "Often times, we want a variable to hold a set of values. Lists and arrays are what get used for this."
   ]
  },
  {
   "cell_type": "code",
   "execution_count": 18,
   "metadata": {},
   "outputs": [
    {
     "data": {
      "text/plain": [
       "[5, 9, 3, -10, 'bulldogs', True]"
      ]
     },
     "execution_count": 18,
     "metadata": {},
     "output_type": "execute_result"
    }
   ],
   "source": [
    "a = [5,9,3,-10,'bulldogs',True]    #this is the syntax for creating a list from scratch\n",
    "a"
   ]
  },
  {
   "cell_type": "markdown",
   "metadata": {},
   "source": [
    "To get the length of a list, use the `len()` function"
   ]
  },
  {
   "cell_type": "code",
   "execution_count": null,
   "metadata": {},
   "outputs": [],
   "source": [
    "len(a)"
   ]
  },
  {
   "cell_type": "markdown",
   "metadata": {},
   "source": [
    "### Indexing"
   ]
  },
  {
   "cell_type": "code",
   "execution_count": 70,
   "metadata": {},
   "outputs": [
    {
     "data": {
      "text/plain": [
       "5"
      ]
     },
     "execution_count": 70,
     "metadata": {},
     "output_type": "execute_result"
    }
   ],
   "source": [
    "a[0]    #get the first element in a list"
   ]
  },
  {
   "cell_type": "code",
   "execution_count": 71,
   "metadata": {},
   "outputs": [
    {
     "data": {
      "text/plain": [
       "9"
      ]
     },
     "execution_count": 71,
     "metadata": {},
     "output_type": "execute_result"
    }
   ],
   "source": [
    "a[1]   #get the second element in a list"
   ]
  },
  {
   "cell_type": "code",
   "execution_count": 72,
   "metadata": {},
   "outputs": [
    {
     "data": {
      "text/plain": [
       "True"
      ]
     },
     "execution_count": 72,
     "metadata": {},
     "output_type": "execute_result"
    }
   ],
   "source": [
    "a[-1]  #get the last element in a list"
   ]
  },
  {
   "cell_type": "code",
   "execution_count": 73,
   "metadata": {},
   "outputs": [
    {
     "data": {
      "text/plain": [
       "'bulldogs'"
      ]
     },
     "execution_count": 73,
     "metadata": {},
     "output_type": "execute_result"
    }
   ],
   "source": [
    "a[-2]  #get the second-to-last element in a list"
   ]
  },
  {
   "cell_type": "code",
   "execution_count": 74,
   "metadata": {},
   "outputs": [
    {
     "data": {
      "text/plain": [
       "[5, 9, 3, -10]"
      ]
     },
     "execution_count": 74,
     "metadata": {},
     "output_type": "execute_result"
    }
   ],
   "source": [
    "a[:4]  #get the first four elements of a list"
   ]
  },
  {
   "cell_type": "code",
   "execution_count": 75,
   "metadata": {},
   "outputs": [
    {
     "data": {
      "text/plain": [
       "[-10, 'bulldogs', True]"
      ]
     },
     "execution_count": 75,
     "metadata": {},
     "output_type": "execute_result"
    }
   ],
   "source": [
    "a[-3:]  #get the last three elements of a list"
   ]
  },
  {
   "cell_type": "code",
   "execution_count": 76,
   "metadata": {},
   "outputs": [
    {
     "data": {
      "text/plain": [
       "[3, -10, 'bulldogs']"
      ]
     },
     "execution_count": 76,
     "metadata": {},
     "output_type": "execute_result"
    }
   ],
   "source": [
    "a[2:5] #get the elements of a list with index 2 up to (not including) index 5"
   ]
  },
  {
   "cell_type": "markdown",
   "metadata": {},
   "source": [
    "#### *Exercise:*\n",
    "\n",
    "Complete the second line of code below so that the cell returns the list `[-4,-6,-9,-15]`"
   ]
  },
  {
   "cell_type": "code",
   "execution_count": 4,
   "metadata": {},
   "outputs": [],
   "source": [
    "b = [0,-1,-2,-4,-6,-9,-15,-20,-45,-90]\n",
    "b ..."
   ]
  },
  {
   "cell_type": "markdown",
   "metadata": {},
   "source": [
    "While anything can go into lists, they are not particularly suited for when you might want to apply a mathematical operation to every element of the list. For instance, what if we wanted to multiply every element of `b` by 2.5?"
   ]
  },
  {
   "cell_type": "code",
   "execution_count": 7,
   "metadata": {},
   "outputs": [
    {
     "ename": "TypeError",
     "evalue": "can't multiply sequence by non-int of type 'float'",
     "output_type": "error",
     "traceback": [
      "\u001b[0;31m---------------------------------------------------------------------------\u001b[0m",
      "\u001b[0;31mTypeError\u001b[0m                                 Traceback (most recent call last)",
      "\u001b[0;32m<ipython-input-7-e4b9402989a2>\u001b[0m in \u001b[0;36m<module>\u001b[0;34m\u001b[0m\n\u001b[0;32m----> 1\u001b[0;31m \u001b[0;36m2.5\u001b[0m\u001b[0;34m*\u001b[0m\u001b[0mb\u001b[0m\u001b[0;34m\u001b[0m\u001b[0;34m\u001b[0m\u001b[0m\n\u001b[0m",
      "\u001b[0;31mTypeError\u001b[0m: can't multiply sequence by non-int of type 'float'"
     ]
    }
   ],
   "source": [
    "2.5*b"
   ]
  },
  {
   "cell_type": "markdown",
   "metadata": {},
   "source": [
    "We need to convert it to an array (which is pretty much the same as a vector). For this we need a package called `numpy`, which is so useful that I recommend getting into the habit of importing it at the beginning of every python code you ever write!"
   ]
  },
  {
   "cell_type": "code",
   "execution_count": 8,
   "metadata": {},
   "outputs": [],
   "source": [
    "import numpy as np"
   ]
  },
  {
   "cell_type": "code",
   "execution_count": 9,
   "metadata": {},
   "outputs": [
    {
     "data": {
      "text/plain": [
       "array([  0,  -1,  -2,  -4,  -6,  -9, -15, -20, -45, -90])"
      ]
     },
     "execution_count": 9,
     "metadata": {},
     "output_type": "execute_result"
    }
   ],
   "source": [
    "b2 = np.array(b)\n",
    "b2"
   ]
  },
  {
   "cell_type": "code",
   "execution_count": 10,
   "metadata": {},
   "outputs": [
    {
     "data": {
      "text/plain": [
       "array([   0. ,   -2.5,   -5. ,  -10. ,  -15. ,  -22.5,  -37.5,  -50. ,\n",
       "       -112.5, -225. ])"
      ]
     },
     "execution_count": 10,
     "metadata": {},
     "output_type": "execute_result"
    }
   ],
   "source": [
    "b2*2.5"
   ]
  },
  {
   "cell_type": "markdown",
   "metadata": {},
   "source": [
    "That time it worked!!! \n",
    "\n",
    "#### *Exercise*:\n",
    "\n",
    "Without running the next cell, what do you think will be the output?"
   ]
  },
  {
   "cell_type": "code",
   "execution_count": 11,
   "metadata": {},
   "outputs": [
    {
     "data": {
      "text/plain": [
       "array([31, 24, 31, 24, 31])"
      ]
     },
     "execution_count": 11,
     "metadata": {},
     "output_type": "execute_result"
    }
   ],
   "source": [
    "x = np.array([6,-1,6,-1,6])\n",
    "y = np.array([1,2,3,4,5])\n",
    "x + y[-1]**2"
   ]
  },
  {
   "cell_type": "markdown",
   "metadata": {},
   "source": [
    "You can also apply various operations to arrays of the same length. From the next couple cells, see if you can see a pattern that explains how the operations are applied."
   ]
  },
  {
   "cell_type": "code",
   "execution_count": 12,
   "metadata": {},
   "outputs": [
    {
     "data": {
      "text/plain": [
       "array([ 7,  1,  9,  3, 11])"
      ]
     },
     "execution_count": 12,
     "metadata": {},
     "output_type": "execute_result"
    }
   ],
   "source": [
    "x + y"
   ]
  },
  {
   "cell_type": "code",
   "execution_count": 13,
   "metadata": {},
   "outputs": [
    {
     "data": {
      "text/plain": [
       "array([ 5, -3,  3, -5,  1])"
      ]
     },
     "execution_count": 13,
     "metadata": {},
     "output_type": "execute_result"
    }
   ],
   "source": [
    "x - y"
   ]
  },
  {
   "cell_type": "code",
   "execution_count": 14,
   "metadata": {},
   "outputs": [
    {
     "data": {
      "text/plain": [
       "array([ 6, -2, 18, -4, 30])"
      ]
     },
     "execution_count": 14,
     "metadata": {},
     "output_type": "execute_result"
    }
   ],
   "source": [
    "x * y"
   ]
  },
  {
   "cell_type": "code",
   "execution_count": 15,
   "metadata": {},
   "outputs": [
    {
     "data": {
      "text/plain": [
       "array([False, False, False, False, False])"
      ]
     },
     "execution_count": 15,
     "metadata": {},
     "output_type": "execute_result"
    }
   ],
   "source": [
    "x == y"
   ]
  },
  {
   "cell_type": "code",
   "execution_count": 16,
   "metadata": {},
   "outputs": [
    {
     "data": {
      "text/plain": [
       "array([0, 1, 0, 3, 1])"
      ]
     },
     "execution_count": 16,
     "metadata": {},
     "output_type": "execute_result"
    }
   ],
   "source": [
    "x % y"
   ]
  },
  {
   "cell_type": "code",
   "execution_count": 17,
   "metadata": {},
   "outputs": [
    {
     "data": {
      "text/plain": [
       "array([ True, False,  True, False,  True])"
      ]
     },
     "execution_count": 17,
     "metadata": {},
     "output_type": "execute_result"
    }
   ],
   "source": [
    "x > y"
   ]
  },
  {
   "cell_type": "markdown",
   "metadata": {},
   "source": [
    "You can also index an array with another boolean array of the same length. This is particularly useful in data analysis!"
   ]
  },
  {
   "cell_type": "code",
   "execution_count": 20,
   "metadata": {},
   "outputs": [
    {
     "data": {
      "text/plain": [
       "array([ 2,  8, 10, 17])"
      ]
     },
     "execution_count": 20,
     "metadata": {},
     "output_type": "execute_result"
    }
   ],
   "source": [
    "boolarray = np.array([True, False, False, True, True, False, False, False, True])\n",
    "v = np.array([2,4,6,8,10,12,14,16,17])\n",
    "v[boolarray]"
   ]
  },
  {
   "cell_type": "markdown",
   "metadata": {},
   "source": [
    "## Part 4: Dataframes\n",
    "\n",
    "The most useful and traditional form of data is a dataframe, which essentially is a matrix with variables assigned to the columns and observations assigned to the rows. In Python, the most popular package for dataframes is Pandas."
   ]
  },
  {
   "cell_type": "code",
   "execution_count": 21,
   "metadata": {},
   "outputs": [],
   "source": [
    "import pandas as pd"
   ]
  },
  {
   "cell_type": "markdown",
   "metadata": {},
   "source": [
    "Let's actually read in some real data now! Here is a dataset of recently sold houses (as of March, 2021) in Bountiful, Utah."
   ]
  },
  {
   "cell_type": "code",
   "execution_count": 29,
   "metadata": {},
   "outputs": [],
   "source": [
    "url = \"https://raw.githubusercontent.com/parkerholzer/Bountiful_houses_sold/master/Bountiful_UT_3-25-2021.csv\"\n",
    "data = pd.read_csv(url)"
   ]
  },
  {
   "cell_type": "markdown",
   "metadata": {},
   "source": [
    "Let's take a quick look at the dataframe!"
   ]
  },
  {
   "cell_type": "code",
   "execution_count": 30,
   "metadata": {},
   "outputs": [
    {
     "data": {
      "text/html": [
       "<div>\n",
       "<style scoped>\n",
       "    .dataframe tbody tr th:only-of-type {\n",
       "        vertical-align: middle;\n",
       "    }\n",
       "\n",
       "    .dataframe tbody tr th {\n",
       "        vertical-align: top;\n",
       "    }\n",
       "\n",
       "    .dataframe thead th {\n",
       "        text-align: right;\n",
       "    }\n",
       "</style>\n",
       "<table border=\"1\" class=\"dataframe\">\n",
       "  <thead>\n",
       "    <tr style=\"text-align: right;\">\n",
       "      <th></th>\n",
       "      <th>Type</th>\n",
       "      <th>Built</th>\n",
       "      <th>Lot</th>\n",
       "      <th>Bed</th>\n",
       "      <th>Bath</th>\n",
       "      <th>Area</th>\n",
       "      <th>Cost</th>\n",
       "      <th>URLaddress</th>\n",
       "    </tr>\n",
       "  </thead>\n",
       "  <tbody>\n",
       "    <tr>\n",
       "      <th>0</th>\n",
       "      <td>SingleFamily</td>\n",
       "      <td>1979.0</td>\n",
       "      <td>0.21 Acres</td>\n",
       "      <td>6.0</td>\n",
       "      <td>5.0</td>\n",
       "      <td>5,550</td>\n",
       "      <td>NaN</td>\n",
       "      <td>https://www.zillow.com/homedetails/910-E-Mills...</td>\n",
       "    </tr>\n",
       "    <tr>\n",
       "      <th>1</th>\n",
       "      <td>Townhouse</td>\n",
       "      <td>2018.0</td>\n",
       "      <td>0.02 Acres</td>\n",
       "      <td>3.0</td>\n",
       "      <td>4.0</td>\n",
       "      <td>2,105</td>\n",
       "      <td>$420,183</td>\n",
       "      <td>https://www.zillow.com/homedetails/261-E-340-N...</td>\n",
       "    </tr>\n",
       "    <tr>\n",
       "      <th>2</th>\n",
       "      <td>Townhouse</td>\n",
       "      <td>1983.0</td>\n",
       "      <td>0.01 Acres</td>\n",
       "      <td>3.0</td>\n",
       "      <td>2.0</td>\n",
       "      <td>1,648</td>\n",
       "      <td>$305,125</td>\n",
       "      <td>https://www.zillow.com/homedetails/188-E-2050-...</td>\n",
       "    </tr>\n",
       "    <tr>\n",
       "      <th>3</th>\n",
       "      <td>SingleFamily</td>\n",
       "      <td>1959.0</td>\n",
       "      <td>0.20 Acres</td>\n",
       "      <td>4.0</td>\n",
       "      <td>3.0</td>\n",
       "      <td>2,268</td>\n",
       "      <td>$400,571</td>\n",
       "      <td>https://www.zillow.com/homedetails/840-N-600-E...</td>\n",
       "    </tr>\n",
       "    <tr>\n",
       "      <th>4</th>\n",
       "      <td>SingleFamily</td>\n",
       "      <td>1973.0</td>\n",
       "      <td>0.43 Acres</td>\n",
       "      <td>3.0</td>\n",
       "      <td>3.0</td>\n",
       "      <td>2,766</td>\n",
       "      <td>$533,270</td>\n",
       "      <td>https://www.zillow.com/homedetails/102-E-Oakri...</td>\n",
       "    </tr>\n",
       "    <tr>\n",
       "      <th>...</th>\n",
       "      <td>...</td>\n",
       "      <td>...</td>\n",
       "      <td>...</td>\n",
       "      <td>...</td>\n",
       "      <td>...</td>\n",
       "      <td>...</td>\n",
       "      <td>...</td>\n",
       "      <td>...</td>\n",
       "    </tr>\n",
       "    <tr>\n",
       "      <th>790</th>\n",
       "      <td>Condo</td>\n",
       "      <td>1973.0</td>\n",
       "      <td>NaN</td>\n",
       "      <td>2.0</td>\n",
       "      <td>1.0</td>\n",
       "      <td>925</td>\n",
       "      <td>$202,252</td>\n",
       "      <td>https://www.zillow.com/homedetails/314-W-Cente...</td>\n",
       "    </tr>\n",
       "    <tr>\n",
       "      <th>791</th>\n",
       "      <td>SingleFamily</td>\n",
       "      <td>1997.0</td>\n",
       "      <td>9,147 sqft</td>\n",
       "      <td>5.0</td>\n",
       "      <td>3.0</td>\n",
       "      <td>2,843</td>\n",
       "      <td>$553,730</td>\n",
       "      <td>https://www.zillow.com/homedetails/119-W-1500-...</td>\n",
       "    </tr>\n",
       "    <tr>\n",
       "      <th>792</th>\n",
       "      <td>SingleFamily</td>\n",
       "      <td>1993.0</td>\n",
       "      <td>0.41 Acres</td>\n",
       "      <td>5.0</td>\n",
       "      <td>4.0</td>\n",
       "      <td>3,166</td>\n",
       "      <td>$574,166</td>\n",
       "      <td>https://www.zillow.com/homedetails/1130-S-800-...</td>\n",
       "    </tr>\n",
       "    <tr>\n",
       "      <th>793</th>\n",
       "      <td>Townhouse</td>\n",
       "      <td>2014.0</td>\n",
       "      <td>436 sqft</td>\n",
       "      <td>3.0</td>\n",
       "      <td>2.0</td>\n",
       "      <td>1,798</td>\n",
       "      <td>$357,503</td>\n",
       "      <td>https://www.zillow.com/homedetails/169-E-Orcha...</td>\n",
       "    </tr>\n",
       "    <tr>\n",
       "      <th>794</th>\n",
       "      <td>Townhouse</td>\n",
       "      <td>1996.0</td>\n",
       "      <td>0.01 Acres</td>\n",
       "      <td>3.0</td>\n",
       "      <td>3.0</td>\n",
       "      <td>2,066</td>\n",
       "      <td>$294,435</td>\n",
       "      <td>https://www.zillow.com/homedetails/1628-S-200-...</td>\n",
       "    </tr>\n",
       "  </tbody>\n",
       "</table>\n",
       "<p>795 rows × 8 columns</p>\n",
       "</div>"
      ],
      "text/plain": [
       "             Type   Built         Lot  Bed  Bath   Area      Cost  \\\n",
       "0    SingleFamily  1979.0  0.21 Acres  6.0   5.0  5,550       NaN   \n",
       "1       Townhouse  2018.0  0.02 Acres  3.0   4.0  2,105  $420,183   \n",
       "2       Townhouse  1983.0  0.01 Acres  3.0   2.0  1,648  $305,125   \n",
       "3    SingleFamily  1959.0  0.20 Acres  4.0   3.0  2,268  $400,571   \n",
       "4    SingleFamily  1973.0  0.43 Acres  3.0   3.0  2,766  $533,270   \n",
       "..            ...     ...         ...  ...   ...    ...       ...   \n",
       "790         Condo  1973.0         NaN  2.0   1.0    925  $202,252   \n",
       "791  SingleFamily  1997.0  9,147 sqft  5.0   3.0  2,843  $553,730   \n",
       "792  SingleFamily  1993.0  0.41 Acres  5.0   4.0  3,166  $574,166   \n",
       "793     Townhouse  2014.0    436 sqft  3.0   2.0  1,798  $357,503   \n",
       "794     Townhouse  1996.0  0.01 Acres  3.0   3.0  2,066  $294,435   \n",
       "\n",
       "                                            URLaddress  \n",
       "0    https://www.zillow.com/homedetails/910-E-Mills...  \n",
       "1    https://www.zillow.com/homedetails/261-E-340-N...  \n",
       "2    https://www.zillow.com/homedetails/188-E-2050-...  \n",
       "3    https://www.zillow.com/homedetails/840-N-600-E...  \n",
       "4    https://www.zillow.com/homedetails/102-E-Oakri...  \n",
       "..                                                 ...  \n",
       "790  https://www.zillow.com/homedetails/314-W-Cente...  \n",
       "791  https://www.zillow.com/homedetails/119-W-1500-...  \n",
       "792  https://www.zillow.com/homedetails/1130-S-800-...  \n",
       "793  https://www.zillow.com/homedetails/169-E-Orcha...  \n",
       "794  https://www.zillow.com/homedetails/1628-S-200-...  \n",
       "\n",
       "[795 rows x 8 columns]"
      ]
     },
     "execution_count": 30,
     "metadata": {},
     "output_type": "execute_result"
    }
   ],
   "source": [
    "data"
   ]
  },
  {
   "cell_type": "markdown",
   "metadata": {},
   "source": [
    "#### *Exercise*:\n",
    "\n",
    "Answer the following questions:\n",
    "\n",
    "1. How many sold properties do we have data about?\n",
    "2. What are the different variables for each property?\n",
    "3. Are there any missing values in the dataset?"
   ]
  },
  {
   "cell_type": "markdown",
   "metadata": {},
   "source": [
    "But how do we get the data from the dataframe? Here we introduce one of the main aspects of Python: object-oriented programming. An object is anything! And depending on what type of object it is, there are some functions that can be applied to it. For example, our object might be the dataframe `data`. A function that can be applied to it is the `.loc` function."
   ]
  },
  {
   "cell_type": "code",
   "execution_count": 47,
   "metadata": {},
   "outputs": [
    {
     "data": {
      "text/plain": [
       "0      1979.0\n",
       "1      2018.0\n",
       "2      1983.0\n",
       "3      1959.0\n",
       "4      1973.0\n",
       "        ...  \n",
       "790    1973.0\n",
       "791    1997.0\n",
       "792    1993.0\n",
       "793    2014.0\n",
       "794    1996.0\n",
       "Name: Built, Length: 795, dtype: float64"
      ]
     },
     "execution_count": 47,
     "metadata": {},
     "output_type": "execute_result"
    }
   ],
   "source": [
    "built = data.loc[:,\"Built\"]  # get the data for all observations (indicated by the colon) of the variable \"Built\"\n",
    "built"
   ]
  },
  {
   "cell_type": "code",
   "execution_count": 48,
   "metadata": {},
   "outputs": [
    {
     "data": {
      "text/plain": [
       "pandas.core.series.Series"
      ]
     },
     "execution_count": 48,
     "metadata": {},
     "output_type": "execute_result"
    }
   ],
   "source": [
    "type(built)"
   ]
  },
  {
   "cell_type": "markdown",
   "metadata": {},
   "source": [
    "If instead of a pandas Series we want it to be an array, we can just use the `.values` function to it."
   ]
  },
  {
   "cell_type": "code",
   "execution_count": 49,
   "metadata": {},
   "outputs": [
    {
     "data": {
      "text/plain": [
       "numpy.ndarray"
      ]
     },
     "execution_count": 49,
     "metadata": {},
     "output_type": "execute_result"
    }
   ],
   "source": [
    "built2 = built.values\n",
    "type(built2)"
   ]
  },
  {
   "cell_type": "markdown",
   "metadata": {},
   "source": [
    "### Summary Statistics\n",
    "\n",
    "For the most basic statistics there are at least two ways to calculate them: (1) with object-oriented functions from Pandas or (2) with Numpy functions."
   ]
  },
  {
   "cell_type": "code",
   "execution_count": 50,
   "metadata": {},
   "outputs": [
    {
     "data": {
      "text/plain": [
       "1956.1300813008131"
      ]
     },
     "execution_count": 50,
     "metadata": {},
     "output_type": "execute_result"
    }
   ],
   "source": [
    "built.mean()"
   ]
  },
  {
   "cell_type": "code",
   "execution_count": 59,
   "metadata": {},
   "outputs": [
    {
     "data": {
      "text/plain": [
       "1956.1300813008131"
      ]
     },
     "execution_count": 59,
     "metadata": {},
     "output_type": "execute_result"
    }
   ],
   "source": [
    "np.mean(built)"
   ]
  },
  {
   "cell_type": "markdown",
   "metadata": {},
   "source": [
    "What about the median?"
   ]
  },
  {
   "cell_type": "code",
   "execution_count": 52,
   "metadata": {},
   "outputs": [
    {
     "data": {
      "text/plain": [
       "1970.0"
      ]
     },
     "execution_count": 52,
     "metadata": {},
     "output_type": "execute_result"
    }
   ],
   "source": [
    "built.median()"
   ]
  },
  {
   "cell_type": "code",
   "execution_count": 53,
   "metadata": {},
   "outputs": [
    {
     "data": {
      "text/plain": [
       "nan"
      ]
     },
     "execution_count": 53,
     "metadata": {},
     "output_type": "execute_result"
    }
   ],
   "source": [
    "np.median(built)"
   ]
  },
  {
   "cell_type": "markdown",
   "metadata": {},
   "source": [
    "#### *Exercise:*\n",
    "\n",
    "Why do you think these two ways of calculating the median didn't give the same result? (Hint: if you ever need to take a closer look at what a function does, just type `??` followed by the name of the function in a cell and run it. Try running `??np.median` and `??built.median`.)"
   ]
  },
  {
   "cell_type": "markdown",
   "metadata": {},
   "source": [
    "## Additional Exercises"
   ]
  },
  {
   "cell_type": "markdown",
   "metadata": {},
   "source": [
    "#### *Exercise:*\n",
    "\n",
    "Give the 5-number summary (i.e., minimum, 25th percentile, median, 75th percentile, maximum) of the Bed variable in the dataframe `data`, only including properties of Type \"SingleFamily\"."
   ]
  },
  {
   "cell_type": "code",
   "execution_count": 66,
   "metadata": {},
   "outputs": [],
   "source": [
    "# Hint: You might find the object-oriented function for Pandas Series .quantile useful"
   ]
  },
  {
   "cell_type": "code",
   "execution_count": null,
   "metadata": {},
   "outputs": [],
   "source": []
  },
  {
   "cell_type": "markdown",
   "metadata": {},
   "source": [
    "#### *Exercise:*\n",
    "\n",
    "Find out how many different property types there are in the dataframe `data`, and how many of each type there are."
   ]
  },
  {
   "cell_type": "code",
   "execution_count": null,
   "metadata": {},
   "outputs": [],
   "source": []
  },
  {
   "cell_type": "code",
   "execution_count": null,
   "metadata": {},
   "outputs": [],
   "source": []
  },
  {
   "cell_type": "markdown",
   "metadata": {},
   "source": [
    "#### *Exercise:*\n",
    "\n",
    "How many properties in the dataframe `data` have more bathrooms than bedrooms?"
   ]
  },
  {
   "cell_type": "code",
   "execution_count": null,
   "metadata": {},
   "outputs": [],
   "source": []
  },
  {
   "cell_type": "code",
   "execution_count": null,
   "metadata": {},
   "outputs": [],
   "source": []
  }
 ],
 "metadata": {
  "kernelspec": {
   "display_name": "Python 3",
   "language": "python",
   "name": "python3"
  },
  "language_info": {
   "codemirror_mode": {
    "name": "ipython",
    "version": 3
   },
   "file_extension": ".py",
   "mimetype": "text/x-python",
   "name": "python",
   "nbconvert_exporter": "python",
   "pygments_lexer": "ipython3",
   "version": "3.7.6"
  }
 },
 "nbformat": 4,
 "nbformat_minor": 4
}
