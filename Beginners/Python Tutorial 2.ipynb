{
 "cells": [
  {
   "cell_type": "markdown",
   "metadata": {},
   "source": [
    "# Introduction to Python 2"
   ]
  },
  {
   "cell_type": "markdown",
   "metadata": {},
   "source": [
    "#### Parker H. Holzer,   Department of Statistics & Data Science,  Yale University"
   ]
  },
  {
   "cell_type": "markdown",
   "metadata": {},
   "source": [
    "Recap:\n",
    "---------\n",
    "Last time we went over ...\n",
    "1. Structure of Jupyter notebooks\n",
    "2. Basic Python commands\n",
    "3. Different Python objects such as lists, arrays, dictionaries, strings, etc.\n",
    "4. Intro. to dataframes"
   ]
  },
  {
   "cell_type": "markdown",
   "metadata": {},
   "source": [
    "Goals:\n",
    "----------\n",
    "Understand ...\n",
    "1. Python syntax\n",
    "2. User-defined functions\n",
    "3. Loops\n",
    "4. Introductory data analysis"
   ]
  },
  {
   "cell_type": "markdown",
   "metadata": {},
   "source": [
    "## Part 0: Review!\n",
    "\n",
    "Let's start by importing three standard packages that we will need."
   ]
  },
  {
   "cell_type": "code",
   "execution_count": null,
   "metadata": {},
   "outputs": [],
   "source": [
    "import numpy as np\n",
    "import pandas as pd\n",
    "import matplotlib.pyplot as plt"
   ]
  },
  {
   "cell_type": "markdown",
   "metadata": {},
   "source": [
    "#### *Exercise*:\n",
    "Print the value of the \"Area\" variable (the square footage) for the first row in the dataframe `data`."
   ]
  },
  {
   "cell_type": "code",
   "execution_count": null,
   "metadata": {},
   "outputs": [],
   "source": [
    "url = \"https://raw.githubusercontent.com/parkerholzer/Bountiful_houses_sold/master/Bountiful_UT_3-25-2021.csv\"\n",
    "data = pd.read_csv(url)\n"
   ]
  },
  {
   "cell_type": "markdown",
   "metadata": {},
   "source": [
    "#### *Exercise*:\n",
    "Convert the square feet area printed above to be in units of square meters. (Note: 1 ft. = 0.3048 m.)"
   ]
  },
  {
   "cell_type": "code",
   "execution_count": null,
   "metadata": {},
   "outputs": [],
   "source": []
  },
  {
   "cell_type": "markdown",
   "metadata": {},
   "source": [
    "## Part 1: Loops and Conditional Statements\n",
    "\n",
    "Often times we want to apply a certain operation to every entry in a list or array. For example, we probably want to have all the values for \"Area\" in `data` as floats instead of strings."
   ]
  },
  {
   "cell_type": "code",
   "execution_count": null,
   "metadata": {},
   "outputs": [],
   "source": [
    "data.loc[:10,\"Area\"].values   #the first 10 Area measurements in the form of strings"
   ]
  },
  {
   "cell_type": "markdown",
   "metadata": {},
   "source": [
    "To do all of this, we can use a 'for loop'. This type of loop goes through each element in a list (or array) and applies a certain operation to it. The structure of a for loop is as follows:    "
   ]
  },
  {
   "cell_type": "markdown",
   "metadata": {},
   "source": [
    "`for ` *element* `in` *mylist*`:`\n",
    "\n",
    "$\\ \\ \\ \\ \\ \\ $ *operation(s) to be applied to element*"
   ]
  },
  {
   "cell_type": "code",
   "execution_count": null,
   "metadata": {},
   "outputs": [],
   "source": [
    "for a in data.loc[:10,\"Area\"]:   # begin the for loop, each round using a single element in data.loc[:10,\"Area\"]\n",
    "    s = a.replace(',', '')       # first, remove any commas from the element\n",
    "    s = float(s)                 # second, convert the string to a floating point variable\n",
    "    print(s)                     # last, print the value of the variable"
   ]
  },
  {
   "cell_type": "markdown",
   "metadata": {},
   "source": [
    "#### Important Note:\n",
    "\n",
    "Did you notice the indentation and lack of semicolons and brackets?!?! In most other programming languages brackets are required for loops and indentation is an optional formality. Python requires proper indentation as a replacement for brackets and semicolons."
   ]
  },
  {
   "cell_type": "markdown",
   "metadata": {},
   "source": [
    "Now lets try applying it to all the values of \"Area\" in `data`."
   ]
  },
  {
   "cell_type": "code",
   "execution_count": null,
   "metadata": {},
   "outputs": [],
   "source": [
    "newarea = []                      # initialize an empty list\n",
    "for a in data.loc[:,\"Area\"]:          \n",
    "    s = a.replace(',', '')              \n",
    "    s = float(s)\n",
    "    newarea.append(s)             # add the value of the variable s to the end of the list newarea"
   ]
  },
  {
   "cell_type": "markdown",
   "metadata": {},
   "source": [
    "Oops! It looks like there are some values of \"Area\" that are not strings. Let's take a closer look at the raw values."
   ]
  },
  {
   "cell_type": "code",
   "execution_count": null,
   "metadata": {},
   "outputs": [],
   "source": [
    "data.loc[:100,\"Area\"].values"
   ]
  },
  {
   "cell_type": "markdown",
   "metadata": {},
   "source": [
    "So it looks like the operation we apply needs to depend a bit on what variable type each element is. For this we can use conditional statements inside our loop."
   ]
  },
  {
   "cell_type": "code",
   "execution_count": null,
   "metadata": {},
   "outputs": [],
   "source": []
  },
  {
   "cell_type": "markdown",
   "metadata": {},
   "source": [
    "That worked! Let's take a look at the list to see if it did what it was supposed to."
   ]
  },
  {
   "cell_type": "code",
   "execution_count": null,
   "metadata": {},
   "outputs": [],
   "source": [
    "np.array(newarea)"
   ]
  },
  {
   "cell_type": "markdown",
   "metadata": {},
   "source": [
    "There are also ways to shorten loops like this. One way is to stack operations together in a single line."
   ]
  },
  {
   "cell_type": "code",
   "execution_count": null,
   "metadata": {},
   "outputs": [],
   "source": [
    "newarea = []                      \n",
    "for a in data.loc[:,\"Area\"]:\n",
    "    if pd.isna(a):                   \n",
    "        newarea.append(a)                        \n",
    "    else:                            \n",
    "        newarea.append(float(a.replace(',', '')))"
   ]
  },
  {
   "cell_type": "markdown",
   "metadata": {},
   "source": [
    "You can also use a clever technique called [list comprehension](https://docs.python.org/3/tutorial/datastructures.html#list-comprehensions)."
   ]
  },
  {
   "cell_type": "code",
   "execution_count": null,
   "metadata": {},
   "outputs": [],
   "source": [
    "newarea = [a if pd.isna(a) else float(a.replace(',', '')) for a in data.loc[:,\"Area\"]]"
   ]
  },
  {
   "cell_type": "markdown",
   "metadata": {},
   "source": [
    "#### *Exercise*: \n",
    "Clean up the \"Cost\" variable in `data` to be numerical instead of strings, and add the cleaned array to `data` as a new variable called \"Cost2\" in units of dollars."
   ]
  },
  {
   "cell_type": "code",
   "execution_count": null,
   "metadata": {},
   "outputs": [],
   "source": []
  },
  {
   "cell_type": "code",
   "execution_count": null,
   "metadata": {},
   "outputs": [],
   "source": []
  },
  {
   "cell_type": "markdown",
   "metadata": {},
   "source": [
    "## Part 2: User-defined Functions\n",
    "\n",
    "Often times, we have a set of operations that we would like to apply in a more concise way. This is the main purpose of functions. While many functions are already built into Python and its packages, it is often useful to define your own functions for your own purposes.\n",
    "\n",
    "For example, consider the \"Lot\" variable in `data` (which gives the lot size of each property)."
   ]
  },
  {
   "cell_type": "code",
   "execution_count": null,
   "metadata": {},
   "outputs": [],
   "source": [
    "data.loc[:,\"Lot\"]"
   ]
  },
  {
   "cell_type": "markdown",
   "metadata": {},
   "source": [
    "This variable is another string, but also has rows with different units. So to clean this data up, we need to convert the string to be numeric but also make the units the same. If we wrote a function that did all of this, it would make for more straight-forward coding.\n",
    "\n",
    "The structure of functions is as follows:\n",
    "\n",
    "`def` *name_of_function*`(` *arguments* `):`\n",
    "\n",
    "$\\ \\ \\ \\ \\ \\ $ *body of function*\n",
    "\n",
    "$\\ \\ \\ \\ \\ \\ $ `return` *output*"
   ]
  },
  {
   "cell_type": "markdown",
   "metadata": {},
   "source": [
    "#### *Exercise:*\n",
    "If you split each entry in the \"Lot\" column of `data` by a single space, what are all the unique values that the second half of the entry takes? (Hint: use the `np.unique()` function.)"
   ]
  },
  {
   "cell_type": "code",
   "execution_count": null,
   "metadata": {},
   "outputs": [],
   "source": []
  },
  {
   "cell_type": "markdown",
   "metadata": {},
   "source": [
    "Now let's write a function to clean up the \"Lot\"!"
   ]
  },
  {
   "cell_type": "code",
   "execution_count": null,
   "metadata": {},
   "outputs": [],
   "source": [
    "def clean_lot(rawlot):                        # initialize the function name and its arguments\n",
    "     # take care of the possibility of missing values\n",
    "     # if not a missing value\n",
    "     # split the string at every space\n",
    "     # if the lotsize is already in Acres,\n",
    "     # convert the numeric part to a float\n",
    "     # if the lotsize has units of squarefeet\n",
    "     # remove the comma\n",
    "     # convert to a float and put in units of acres\n",
    "     # if the lotsize doesn't have units of acres or squarefeet\n",
    "     # consider the value to be missing\n",
    "     # return the value of the lot variable"
   ]
  },
  {
   "cell_type": "code",
   "execution_count": null,
   "metadata": {},
   "outputs": [],
   "source": [
    "clean_lot(data.loc[791,\"Lot\"])"
   ]
  },
  {
   "cell_type": "code",
   "execution_count": null,
   "metadata": {},
   "outputs": [],
   "source": [
    "Lot2 = np.array([clean_lot(l) for l in data.loc[:,\"Lot\"]])"
   ]
  },
  {
   "cell_type": "code",
   "execution_count": null,
   "metadata": {},
   "outputs": [],
   "source": [
    "data.loc[:,\"Lot2\"] = Lot2\n",
    "data.loc[:,\"Area2\"] = newarea"
   ]
  },
  {
   "cell_type": "code",
   "execution_count": null,
   "metadata": {},
   "outputs": [],
   "source": [
    "data"
   ]
  },
  {
   "cell_type": "markdown",
   "metadata": {},
   "source": [
    "#### *Exercise:*\n",
    "Write a function that takes an array and returns a dictionary of the number of occurences of each unique value, with the names in the dictionary being the unique values."
   ]
  },
  {
   "cell_type": "code",
   "execution_count": null,
   "metadata": {},
   "outputs": [],
   "source": [
    "def uniquevals(a):\n",
    "    mydict = {\"NA\": sum(pd.isna(a))}\n",
    "    a = a[~pd.isna(a)]\n",
    "    for x in np.unique(a):\n",
    "        mydict[str(x)] = sum(a == x)\n",
    "    return mydict"
   ]
  },
  {
   "cell_type": "code",
   "execution_count": null,
   "metadata": {},
   "outputs": [],
   "source": [
    "uniquevals(data.loc[:,\"Type\"].values)"
   ]
  },
  {
   "cell_type": "markdown",
   "metadata": {},
   "source": [
    "## Part 3: Data Analysis 101\n",
    "\n",
    "Data analysis essentially comes down to two components: basic statistics and plots. Let's start by analyzing one variable at a time. \n",
    "\n",
    "### One Categorical Variable\n",
    "\n",
    "Statistic: one-way frequency table"
   ]
  },
  {
   "cell_type": "code",
   "execution_count": null,
   "metadata": {},
   "outputs": [],
   "source": [
    "data.loc[:,\"Type\"].value_counts(dropna=False)"
   ]
  },
  {
   "cell_type": "markdown",
   "metadata": {},
   "source": [
    "Plot: bar plot"
   ]
  },
  {
   "cell_type": "code",
   "execution_count": null,
   "metadata": {},
   "outputs": [],
   "source": [
    "d = data.loc[:,\"Type\"].value_counts(dropna=False)        # save the two-way frequency table as d\n",
    "plt.bar(d.index.astype(str), d.values, align='edge')     # create a bar plot\n",
    "plt.xticks(rotation = 45, fontsize=12)                   # rotate labels for better visualization\n",
    "plt.xlabel(\"Property Type\", fontsize=14)                 # add an x-axis label\n",
    "plt.ylabel(\"Count\", fontsize=14)                         # add a y-axis label\n",
    "plt.title(\"Bountiful, UT Properties Sold\", fontsize=16)  # add a plot title\n",
    "plt.show()                                               # show us the final plot"
   ]
  },
  {
   "cell_type": "markdown",
   "metadata": {},
   "source": [
    "What is that \"Unknown\" property type?"
   ]
  },
  {
   "cell_type": "code",
   "execution_count": null,
   "metadata": {},
   "outputs": [],
   "source": []
  },
  {
   "cell_type": "code",
   "execution_count": null,
   "metadata": {},
   "outputs": [],
   "source": []
  },
  {
   "cell_type": "markdown",
   "metadata": {},
   "source": [
    "### One Discrete Quantitative Variable\n",
    "\n",
    "Statistics: mean, median, IQR, standard deviation, one-way frequency table"
   ]
  },
  {
   "cell_type": "code",
   "execution_count": null,
   "metadata": {},
   "outputs": [],
   "source": [
    "notna = ~pd.isna(data.loc[:,\"Bed\"])\n",
    "print(\"Mean Bedrooms: %.2f\"%np.mean(data.loc[notna,\"Bed\"]))\n",
    "print(\"Median Bedrooms: %.2f\"%np.median(data.loc[notna,\"Bed\"]))\n",
    "print(\"IQR Bedrooms: %.2f\"%(np.percentile(data.loc[notna,\"Bed\"],75) - np.percentile(data.loc[notna,\"Bed\"],25)))\n",
    "print(\"Std. Dev. Bedrooms: %.2f\"%np.std(data.loc[notna,\"Bed\"]))\n",
    "data.loc[notna,\"Bed\"].value_counts().sort_index()"
   ]
  },
  {
   "cell_type": "markdown",
   "metadata": {},
   "source": [
    "Plot: bar chart"
   ]
  },
  {
   "cell_type": "code",
   "execution_count": null,
   "metadata": {},
   "outputs": [],
   "source": [
    "d = data.loc[:,\"Bed\"].value_counts(dropna=False).sort_index()        \n",
    "plt.bar(d.index.astype(str), d.values)     \n",
    "plt.xticks(fontsize=12)                   \n",
    "plt.xlabel(\"Bedrooms\", fontsize=14)                 \n",
    "plt.ylabel(\"Count\", fontsize=14)                         \n",
    "plt.title(\"Bountiful, UT Properties Sold\", fontsize=16)  \n",
    "plt.show()  "
   ]
  },
  {
   "cell_type": "markdown",
   "metadata": {},
   "source": [
    "#### *Exercise:*\n",
    "\n",
    "Give the five-number summary of the Bathroom counts **(minimum, 25th percentile, median, 75th percentile, maximum)**."
   ]
  },
  {
   "cell_type": "code",
   "execution_count": null,
   "metadata": {},
   "outputs": [],
   "source": []
  },
  {
   "cell_type": "markdown",
   "metadata": {},
   "source": [
    "### One Continuous Quantitative Variable\n",
    "\n",
    "Statistics: mean, median, standard deviation, IQR, ...\n",
    "\n",
    "Plots: histograms, boxplots"
   ]
  },
  {
   "cell_type": "code",
   "execution_count": null,
   "metadata": {},
   "outputs": [],
   "source": [
    "plt.hist(data.loc[:,\"Area2\"].dropna(), bins=20)\n",
    "plt.show()"
   ]
  },
  {
   "cell_type": "code",
   "execution_count": null,
   "metadata": {},
   "outputs": [],
   "source": [
    "data.loc[:,\"Area2\"].argmax()"
   ]
  },
  {
   "cell_type": "code",
   "execution_count": null,
   "metadata": {},
   "outputs": [],
   "source": [
    "data.loc[645]"
   ]
  },
  {
   "cell_type": "markdown",
   "metadata": {},
   "source": [
    "#### *Exercise:*\n",
    "\n",
    "Explore, and clean up, the \"Built\" variable of `data` (which represents the year the property was built)."
   ]
  },
  {
   "cell_type": "code",
   "execution_count": null,
   "metadata": {},
   "outputs": [],
   "source": []
  },
  {
   "cell_type": "code",
   "execution_count": null,
   "metadata": {},
   "outputs": [],
   "source": []
  },
  {
   "cell_type": "markdown",
   "metadata": {},
   "source": [
    "### Multiple Variable types"
   ]
  },
  {
   "cell_type": "code",
   "execution_count": null,
   "metadata": {},
   "outputs": [],
   "source": [
    "import statsmodels.formula.api as sm"
   ]
  },
  {
   "cell_type": "code",
   "execution_count": null,
   "metadata": {},
   "outputs": [],
   "source": [
    "mdl = sm.ols(formula = \"Cost2 ~ Type + Built + Lot2 + Bed + Bath + Area2\", data = data.dropna()).fit()\n",
    "mdl.summary()"
   ]
  },
  {
   "cell_type": "code",
   "execution_count": null,
   "metadata": {},
   "outputs": [],
   "source": [
    "plt.hist(mdl.resid, bins=25)\n",
    "plt.show()"
   ]
  },
  {
   "cell_type": "code",
   "execution_count": null,
   "metadata": {},
   "outputs": [],
   "source": [
    "plt.scatter(mdl.fittedvalues, mdl.resid)\n",
    "plt.hlines(0, np.min(mdl.fittedvalues), np.max(mdl.fittedvalues))\n",
    "plt.show()"
   ]
  },
  {
   "cell_type": "code",
   "execution_count": null,
   "metadata": {},
   "outputs": [],
   "source": []
  }
 ],
 "metadata": {
  "kernelspec": {
   "display_name": "Python 3",
   "language": "python",
   "name": "python3"
  },
  "language_info": {
   "codemirror_mode": {
    "name": "ipython",
    "version": 3
   },
   "file_extension": ".py",
   "mimetype": "text/x-python",
   "name": "python",
   "nbconvert_exporter": "python",
   "pygments_lexer": "ipython3",
   "version": "3.7.6"
  }
 },
 "nbformat": 4,
 "nbformat_minor": 4
}
