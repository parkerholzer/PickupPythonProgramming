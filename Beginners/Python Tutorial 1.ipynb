{
 "cells": [
  {
   "cell_type": "markdown",
   "metadata": {},
   "source": [
    "# Introduction to Python"
   ]
  },
  {
   "cell_type": "markdown",
   "metadata": {},
   "source": [
    "#### Parker H. Holzer,   Department of Statistics & Data Science,  Yale University"
   ]
  },
  {
   "cell_type": "markdown",
   "metadata": {},
   "source": [
    "Goals:\n",
    "----------\n",
    "1. Become familiar with Jupyter notebooks\n",
    "2. Understand Python programming basics\n",
    "3. Learn to work with lists and arrays\n",
    "4. Get comfortable working with dataframes"
   ]
  },
  {
   "cell_type": "markdown",
   "metadata": {},
   "source": [
    "## Part 1: Jupyter notebooks\n",
    "\n",
    "While Python is a scripting language that can be executed in the terminal/command-prompt, Jupyter notebooks provide a good interface for preparing python code as well as data analysis. These notebooks are composed with cells, of which there are two types:\n",
    "\n",
    "* Code cells: chunks of python code that should all be run together\n",
    "* Markdown cells: areas to add text for describing code, adding math, presentations like this, etc.\n",
    "\n",
    "#### *Exercise:*     **DOUBLE-CLICK HERE**\n",
    "\n",
    "Which of these two cell types do you think this is?\n",
    "\n",
    "Also, did you notice how the appearance of this cell changed when you double-clicked it? That's because each cell has two different modes it can be in: Command Mode (surrounded with a blue box) and Edit Mode (surrounded with a green box). This cell is now in Command Mode, which means you cannot edit the contents of the cell. To go to Edit Mode and change the contents of the cell, either click inside the cell or press Enter on your keyboard. When you are ready to run a cell (either code or markdown type) you can either click the *Run* button near the top left of the notebook or use Shift-Enter on your keyboard. Try it out right now on this cell!\n",
    "\n",
    "If you wish to leave Edit Mode without running the cell, you can press Escape on your keyboard. (Note: there are many other keyboard shortcuts for Jupyter notebooks that you can check out by clicking *Help* near the top and selecting *Keyboard Shortcuts*.)"
   ]
  },
  {
   "cell_type": "markdown",
   "metadata": {},
   "source": [
    "#### *Exercise*:\n",
    "\n",
    "Fill in the missing text of the following lines\n",
    "\n",
    "**- - - - -**\n",
    "\n",
    "**Bow, wow, wow**\n",
    "\n",
    "**Eli Yale**\n",
    "\n",
    "**- - - - -**\n",
    "\n",
    "**Bow, wow, wow**\n",
    "\n",
    "**Our team can never fail**"
   ]
  },
  {
   "cell_type": "code",
   "execution_count": null,
   "metadata": {},
   "outputs": [],
   "source": [
    "#This is a code cell, which can have comments (like this) and python code. Within a code cell, the lines are\n",
    "#run from top to bottom. Code cells can also be run in any order, the order of which is indicated by the number\n",
    "#on the left of the cell. \n",
    "print(\"Hello! And welcome to Jupyter notebooks\")"
   ]
  },
  {
   "cell_type": "markdown",
   "metadata": {},
   "source": [
    "## Part 2: Python basics\n",
    "\n",
    "### Arithmetic and Math Operations\n",
    "\n",
    "Each of the following is a specific math operator in python: `+`, `-`, `*`, `/`, `**`, `//`, `%`\n",
    "\n",
    "Try each of them out by replacing `+` in the following cell to see if you can figure out what they do."
   ]
  },
  {
   "cell_type": "code",
   "execution_count": null,
   "metadata": {},
   "outputs": [],
   "source": [
    "-7 + 3"
   ]
  },
  {
   "cell_type": "markdown",
   "metadata": {},
   "source": [
    "To assign a value to a variable, use the `=` symbol. The following cell gives the variable `x` the value `6` and the variable `y` the value `4`."
   ]
  },
  {
   "cell_type": "code",
   "execution_count": null,
   "metadata": {},
   "outputs": [],
   "source": [
    "x = 6\n",
    "y = 4"
   ]
  },
  {
   "cell_type": "markdown",
   "metadata": {},
   "source": [
    "If you want to see the value of a variable, just run a cell with it as the last line of the cell."
   ]
  },
  {
   "cell_type": "code",
   "execution_count": null,
   "metadata": {},
   "outputs": [],
   "source": [
    "x"
   ]
  },
  {
   "cell_type": "markdown",
   "metadata": {},
   "source": [
    "There are also comparison operators: `==`, `>`, `<`, `!=`, `>=`, `<=` .\n",
    "\n",
    "Try each of these operators out by replacing `==` in the cell to get a feel for what they do."
   ]
  },
  {
   "cell_type": "code",
   "execution_count": null,
   "metadata": {},
   "outputs": [],
   "source": [
    "x == y + 2"
   ]
  },
  {
   "cell_type": "markdown",
   "metadata": {},
   "source": [
    "#### *Exercise:*\n",
    "\n",
    "What will the following cell output?"
   ]
  },
  {
   "cell_type": "code",
   "execution_count": null,
   "metadata": {},
   "outputs": [],
   "source": [
    "z = (y - 3)**6 + 5\n",
    "z = z/2\n",
    "(z % 2) >= (x % 2)"
   ]
  },
  {
   "cell_type": "markdown",
   "metadata": {},
   "source": [
    "### Variable Types\n",
    "\n",
    "The variables `x`, `y`, and `z` each have numeric values. But there are many other types of variables available. Jupyter notebook color-codes each of these types to make that more obvious."
   ]
  },
  {
   "cell_type": "code",
   "execution_count": null,
   "metadata": {},
   "outputs": [],
   "source": [
    "var1 = \"This is a string\"\n",
    "var2 = False"
   ]
  },
  {
   "cell_type": "markdown",
   "metadata": {},
   "source": [
    "To see what type a variable is, use the `type()` function"
   ]
  },
  {
   "cell_type": "code",
   "execution_count": null,
   "metadata": {},
   "outputs": [],
   "source": [
    "type(var1)  #replace var1 with var2, x, or x/5 to see how the type changes"
   ]
  },
  {
   "cell_type": "markdown",
   "metadata": {},
   "source": [
    "So do the math and comparison operators work with these other types too?"
   ]
  },
  {
   "cell_type": "code",
   "execution_count": null,
   "metadata": {},
   "outputs": [],
   "source": [
    "var1 = var1 + \" that works with addition!\"\n",
    "var1"
   ]
  },
  {
   "cell_type": "code",
   "execution_count": null,
   "metadata": {},
   "outputs": [],
   "source": [
    "var1 * 2"
   ]
  },
  {
   "cell_type": "code",
   "execution_count": null,
   "metadata": {},
   "outputs": [],
   "source": [
    "var1 * var2"
   ]
  },
  {
   "cell_type": "code",
   "execution_count": null,
   "metadata": {},
   "outputs": [],
   "source": [
    "var2 * x"
   ]
  },
  {
   "cell_type": "code",
   "execution_count": null,
   "metadata": {},
   "outputs": [],
   "source": [
    "var3 = True\n",
    "var3 + var3"
   ]
  },
  {
   "cell_type": "markdown",
   "metadata": {},
   "source": [
    "## Part 3: Lists and Arrays\n",
    "\n",
    "Often times, we want a variable to hold a set of values. Lists and arrays are what get used for this."
   ]
  },
  {
   "cell_type": "code",
   "execution_count": null,
   "metadata": {},
   "outputs": [],
   "source": [
    "a = [5,9,3,-10,'bulldogs',True]    #this is the syntax for creating a list from scratch\n",
    "a"
   ]
  },
  {
   "cell_type": "markdown",
   "metadata": {},
   "source": [
    "To get the length of a list, use the `len()` function"
   ]
  },
  {
   "cell_type": "code",
   "execution_count": null,
   "metadata": {},
   "outputs": [],
   "source": [
    "len(a)"
   ]
  },
  {
   "cell_type": "markdown",
   "metadata": {},
   "source": [
    "### Indexing"
   ]
  },
  {
   "cell_type": "code",
   "execution_count": null,
   "metadata": {},
   "outputs": [],
   "source": [
    "a[0]    #get the first element in a list"
   ]
  },
  {
   "cell_type": "code",
   "execution_count": null,
   "metadata": {},
   "outputs": [],
   "source": [
    "a[1]   #get the second element in a list"
   ]
  },
  {
   "cell_type": "code",
   "execution_count": null,
   "metadata": {},
   "outputs": [],
   "source": [
    "a[-1]  #get the last element in a list"
   ]
  },
  {
   "cell_type": "code",
   "execution_count": null,
   "metadata": {},
   "outputs": [],
   "source": [
    "a[-2]  #get the second-to-last element in a list"
   ]
  },
  {
   "cell_type": "code",
   "execution_count": null,
   "metadata": {},
   "outputs": [],
   "source": [
    "a[:4]  #get the first four elements of a list"
   ]
  },
  {
   "cell_type": "code",
   "execution_count": null,
   "metadata": {},
   "outputs": [],
   "source": [
    "a[-3:]  #get the last three elements of a list"
   ]
  },
  {
   "cell_type": "code",
   "execution_count": null,
   "metadata": {},
   "outputs": [],
   "source": [
    "a[2:5] #get the elements of a list with index 2 up to (not including) index 5"
   ]
  },
  {
   "cell_type": "markdown",
   "metadata": {},
   "source": [
    "#### *Exercise:*\n",
    "\n",
    "Complete the second line of code below so that the cell returns the list `[-4,-6,-9,-15]`"
   ]
  },
  {
   "cell_type": "code",
   "execution_count": null,
   "metadata": {},
   "outputs": [],
   "source": [
    "b = [0,-1,-2,-4,-6,-9,-15,-20,-45,-90]\n",
    "b ..."
   ]
  },
  {
   "cell_type": "markdown",
   "metadata": {},
   "source": [
    "While anything can go into lists, they are not particularly suited for when you might want to apply a mathematical operation to every element of the list. For instance, what if we wanted to multiply every element of `b` by 2.5?"
   ]
  },
  {
   "cell_type": "code",
   "execution_count": null,
   "metadata": {},
   "outputs": [],
   "source": [
    "2.5*b"
   ]
  },
  {
   "cell_type": "markdown",
   "metadata": {},
   "source": [
    "We need to convert it to an array (which is pretty much the same as a vector). For this we need a package called `numpy`, which is so useful that I recommend getting into the habit of importing it at the beginning of every python code you ever write!"
   ]
  },
  {
   "cell_type": "code",
   "execution_count": null,
   "metadata": {},
   "outputs": [],
   "source": [
    "import numpy as np"
   ]
  },
  {
   "cell_type": "code",
   "execution_count": null,
   "metadata": {},
   "outputs": [],
   "source": [
    "b2 = np.array(b)\n",
    "b2"
   ]
  },
  {
   "cell_type": "code",
   "execution_count": null,
   "metadata": {},
   "outputs": [],
   "source": [
    "b2*2.5"
   ]
  },
  {
   "cell_type": "markdown",
   "metadata": {},
   "source": [
    "That time it worked!!! \n",
    "\n",
    "#### *Exercise*:\n",
    "\n",
    "Without running the next cell, what do you think will be the output?"
   ]
  },
  {
   "cell_type": "code",
   "execution_count": null,
   "metadata": {},
   "outputs": [],
   "source": [
    "x = np.array([6,-1,6,-1,6])\n",
    "y = np.array([1,2,3,4,5])\n",
    "x + y[-1]**2"
   ]
  },
  {
   "cell_type": "markdown",
   "metadata": {},
   "source": [
    "You can also apply various operations to arrays of the same length. From the next couple cells, see if you can see a pattern that explains how the operations are applied."
   ]
  },
  {
   "cell_type": "code",
   "execution_count": null,
   "metadata": {},
   "outputs": [],
   "source": [
    "x + y"
   ]
  },
  {
   "cell_type": "code",
   "execution_count": null,
   "metadata": {},
   "outputs": [],
   "source": [
    "x - y"
   ]
  },
  {
   "cell_type": "code",
   "execution_count": null,
   "metadata": {},
   "outputs": [],
   "source": [
    "x * y"
   ]
  },
  {
   "cell_type": "code",
   "execution_count": null,
   "metadata": {},
   "outputs": [],
   "source": [
    "x == y"
   ]
  },
  {
   "cell_type": "code",
   "execution_count": null,
   "metadata": {},
   "outputs": [],
   "source": [
    "x % y"
   ]
  },
  {
   "cell_type": "code",
   "execution_count": null,
   "metadata": {},
   "outputs": [],
   "source": [
    "x > y"
   ]
  },
  {
   "cell_type": "markdown",
   "metadata": {},
   "source": [
    "You can also index an array with another boolean array of the same length. This is particularly useful in data analysis!"
   ]
  },
  {
   "cell_type": "code",
   "execution_count": null,
   "metadata": {},
   "outputs": [],
   "source": [
    "boolarray = np.array([True, False, False, True, True, False, False, False, True])\n",
    "v = np.array([2,4,6,8,10,12,14,16,17])\n",
    "v[boolarray]"
   ]
  },
  {
   "cell_type": "markdown",
   "metadata": {},
   "source": [
    "## Part 4: Strings"
   ]
  },
  {
   "cell_type": "code",
   "execution_count": null,
   "metadata": {},
   "outputs": [],
   "source": [
    "s1 = 'look at-this_string!'\n",
    "s2 = \"Look at this 1 2!!!\""
   ]
  },
  {
   "cell_type": "code",
   "execution_count": null,
   "metadata": {},
   "outputs": [],
   "source": [
    "s1[:4]   #index a range of characters in a string"
   ]
  },
  {
   "cell_type": "code",
   "execution_count": null,
   "metadata": {},
   "outputs": [],
   "source": [
    "splitted = s2.split(\"this\")    #split a string at a given sequence of characters to create a list\n",
    "splitted"
   ]
  },
  {
   "cell_type": "code",
   "execution_count": null,
   "metadata": {},
   "outputs": [],
   "source": [
    "splitted2 = s2.split(' ')\n",
    "splitted2"
   ]
  },
  {
   "cell_type": "code",
   "execution_count": null,
   "metadata": {},
   "outputs": [],
   "source": [
    "s1 + s2        #adding two strings concatenates them together in the respective order"
   ]
  },
  {
   "cell_type": "code",
   "execution_count": null,
   "metadata": {},
   "outputs": [],
   "source": [
    "3*s2          #multiplying a string by an positive integer n concatenates n copies of that string"
   ]
  },
  {
   "cell_type": "code",
   "execution_count": null,
   "metadata": {},
   "outputs": [],
   "source": [
    "integer1 = -9\n",
    "float1 = 3.1415\n",
    "string1 = 'Yale'\n",
    "\"How %d cool can st%.4frings get at %s !!\"%(integer1, float1, string1)   #insert the value of a variable into a string."
   ]
  },
  {
   "cell_type": "markdown",
   "metadata": {},
   "source": [
    "#### *Exercise:*\n",
    "\n",
    "Complete the code in the next cell so that the output is the number of times the substring `s1` occurs in `x`."
   ]
  },
  {
   "cell_type": "code",
   "execution_count": null,
   "metadata": {},
   "outputs": [],
   "source": [
    "x = \"ds1s1s1s1s1s1s1s1s1s1s1su_1s1s1s1s1s1s1s1s1s1s1s1s1qqs1s1s1s1s1gs1s1\"\n",
    "p = ...\n",
    "p"
   ]
  },
  {
   "cell_type": "markdown",
   "metadata": {},
   "source": [
    "One common use of strings is in another variable type called a dictionary. Dictionaries are nothing more than lists with a name for each element. "
   ]
  },
  {
   "cell_type": "code",
   "execution_count": null,
   "metadata": {},
   "outputs": [],
   "source": [
    "mydict = {'element1': 3.1415, 'element2': \"Hello\", 'yetanotherelement': [1,3,5,6,7], 'andanother': True}"
   ]
  },
  {
   "cell_type": "code",
   "execution_count": null,
   "metadata": {},
   "outputs": [],
   "source": [
    "mydict['element2']"
   ]
  },
  {
   "cell_type": "code",
   "execution_count": null,
   "metadata": {},
   "outputs": [],
   "source": [
    "mydict['add_an_element'] = np.array([-1,2,1,2,3,6,7])\n",
    "mydict"
   ]
  },
  {
   "cell_type": "markdown",
   "metadata": {},
   "source": [
    "## Part 5: Dataframes\n",
    "\n",
    "The most useful and traditional form of data is a dataframe, which essentially is a matrix with variables assigned to the columns and observations assigned to the rows. In Python, the most popular package for dataframes is Pandas."
   ]
  },
  {
   "cell_type": "code",
   "execution_count": null,
   "metadata": {},
   "outputs": [],
   "source": [
    "import pandas as pd"
   ]
  },
  {
   "cell_type": "markdown",
   "metadata": {},
   "source": [
    "Let's actually read in some real data now! Here is a dataset of recently sold houses (as of March, 2021) in Bountiful, Utah."
   ]
  },
  {
   "cell_type": "code",
   "execution_count": null,
   "metadata": {},
   "outputs": [],
   "source": [
    "url = \"https://raw.githubusercontent.com/parkerholzer/Bountiful_houses_sold/master/Bountiful_UT_3-25-2021.csv\"\n",
    "data = pd.read_csv(url)"
   ]
  },
  {
   "cell_type": "markdown",
   "metadata": {},
   "source": [
    "Let's take a quick look at the dataframe!"
   ]
  },
  {
   "cell_type": "code",
   "execution_count": null,
   "metadata": {},
   "outputs": [],
   "source": [
    "data"
   ]
  },
  {
   "cell_type": "markdown",
   "metadata": {},
   "source": [
    "#### *Exercise*:\n",
    "\n",
    "Answer the following questions:\n",
    "\n",
    "1. How many sold properties do we have data about?\n",
    "2. What are the different variables for each property?\n",
    "3. Are there any missing values in the dataset?"
   ]
  },
  {
   "cell_type": "markdown",
   "metadata": {},
   "source": [
    "But how do we get the data from the dataframe? Here we introduce one of the main aspects of Python: object-oriented programming. An object is anything! And depending on what type of object it is, there are some functions that can be applied to it. For example, our object might be the dataframe `data`. A function that can be applied to it is the `.loc` function."
   ]
  },
  {
   "cell_type": "code",
   "execution_count": null,
   "metadata": {},
   "outputs": [],
   "source": [
    "built = data.loc[:,\"Built\"]  # get the data for all observations (indicated by the colon) of the variable \"Built\"\n",
    "built"
   ]
  },
  {
   "cell_type": "code",
   "execution_count": null,
   "metadata": {},
   "outputs": [],
   "source": [
    "type(built)"
   ]
  },
  {
   "cell_type": "markdown",
   "metadata": {},
   "source": [
    "If instead of a pandas Series we want it to be an array, we can just use the `.values` function to it."
   ]
  },
  {
   "cell_type": "code",
   "execution_count": null,
   "metadata": {},
   "outputs": [],
   "source": [
    "built2 = built.values\n",
    "type(built2)"
   ]
  },
  {
   "cell_type": "markdown",
   "metadata": {},
   "source": [
    "### Summary Statistics\n",
    "\n",
    "For the most basic statistics there are at least two ways to calculate them: (1) with object-oriented functions from Pandas or (2) with Numpy functions."
   ]
  },
  {
   "cell_type": "code",
   "execution_count": null,
   "metadata": {},
   "outputs": [],
   "source": [
    "built.mean()"
   ]
  },
  {
   "cell_type": "code",
   "execution_count": null,
   "metadata": {},
   "outputs": [],
   "source": [
    "np.mean(built)"
   ]
  },
  {
   "cell_type": "markdown",
   "metadata": {},
   "source": [
    "What about the median?"
   ]
  },
  {
   "cell_type": "code",
   "execution_count": null,
   "metadata": {},
   "outputs": [],
   "source": [
    "built.median()"
   ]
  },
  {
   "cell_type": "code",
   "execution_count": null,
   "metadata": {},
   "outputs": [],
   "source": [
    "np.median(built)"
   ]
  },
  {
   "cell_type": "markdown",
   "metadata": {},
   "source": [
    "#### *Exercise:*\n",
    "\n",
    "Why do you think these two ways of calculating the median didn't give the same result? (Hint: if you ever need to take a closer look at what a function does, just type `??` followed by the name of the function in a cell and run it. Try running `??np.median` and `??built.median`.)"
   ]
  },
  {
   "cell_type": "markdown",
   "metadata": {},
   "source": [
    "## Additional Exercises"
   ]
  },
  {
   "cell_type": "markdown",
   "metadata": {},
   "source": [
    "#### *Exercise:*\n",
    "\n",
    "Give the 5-number summary (i.e., minimum, 25th percentile, median, 75th percentile, maximum) of the Bed variable in the dataframe `data`, only including properties of Type \"SingleFamily\"."
   ]
  },
  {
   "cell_type": "code",
   "execution_count": null,
   "metadata": {},
   "outputs": [],
   "source": [
    "# Hint: You might find the object-oriented function for Pandas Series .quantile useful"
   ]
  },
  {
   "cell_type": "code",
   "execution_count": null,
   "metadata": {},
   "outputs": [],
   "source": []
  },
  {
   "cell_type": "markdown",
   "metadata": {},
   "source": [
    "#### *Exercise:*\n",
    "\n",
    "Find out how many different property types there are in the dataframe `data`, and how many of each type there are."
   ]
  },
  {
   "cell_type": "code",
   "execution_count": null,
   "metadata": {},
   "outputs": [],
   "source": []
  },
  {
   "cell_type": "code",
   "execution_count": null,
   "metadata": {},
   "outputs": [],
   "source": []
  },
  {
   "cell_type": "markdown",
   "metadata": {},
   "source": [
    "#### *Exercise:*\n",
    "\n",
    "How many properties in the dataframe `data` have more bathrooms than bedrooms?"
   ]
  },
  {
   "cell_type": "code",
   "execution_count": null,
   "metadata": {},
   "outputs": [],
   "source": []
  },
  {
   "cell_type": "code",
   "execution_count": null,
   "metadata": {},
   "outputs": [],
   "source": []
  }
 ],
 "metadata": {
  "kernelspec": {
   "display_name": "Python 3",
   "language": "python",
   "name": "python3"
  },
  "language_info": {
   "codemirror_mode": {
    "name": "ipython",
    "version": 3
   },
   "file_extension": ".py",
   "mimetype": "text/x-python",
   "name": "python",
   "nbconvert_exporter": "python",
   "pygments_lexer": "ipython3",
   "version": "3.7.6"
  }
 },
 "nbformat": 4,
 "nbformat_minor": 4
}
